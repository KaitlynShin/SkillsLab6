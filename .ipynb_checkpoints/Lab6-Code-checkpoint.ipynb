{
 "cells": [
  {
   "cell_type": "code",
   "execution_count": null,
   "metadata": {},
   "outputs": [],
   "source": [
    "Python Code\n",
    "name = \n",
    "age = \n",
    "# If age is less than 21, print \"You are not allowed to drink or smoke\", name.\n",
    "if age \n",
    "# If age is greater than or equal to 21, print \"You are allowed to drink or smoke. Be careful\", name.  \n",
    "elif age \n",
    "\n"
   ]
  }
 ],
 "metadata": {
  "kernelspec": {
   "display_name": "Python 3",
   "language": "python",
   "name": "python3"
  },
  "language_info": {
   "codemirror_mode": {
    "name": "ipython",
    "version": 3
   },
   "file_extension": ".py",
   "mimetype": "text/x-python",
   "name": "python",
   "nbconvert_exporter": "python",
   "pygments_lexer": "ipython3",
   "version": "3.8.3"
  }
 },
 "nbformat": 4,
 "nbformat_minor": 4
}
